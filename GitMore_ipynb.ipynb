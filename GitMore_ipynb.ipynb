{
 "cells": [
  {
   "cell_type": "markdown",
   "id": "adjustable-welding",
   "metadata": {},
   "source": [
    "# ..."
   ]
  },
  {
   "cell_type": "markdown",
   "id": "parental-federal",
   "metadata": {},
   "source": [
    "## Jupyter Notebook Version"
   ]
  },
  {
   "cell_type": "code",
   "execution_count": null,
   "id": "genetic-italy",
   "metadata": {},
   "outputs": [],
   "source": []
  },
  {
   "cell_type": "markdown",
   "id": "prospective-latitude",
   "metadata": {},
   "source": [
    "## Standalone Version"
   ]
  },
  {
   "cell_type": "markdown",
   "id": "august-spotlight",
   "metadata": {},
   "source": [
    "### Create Standalone File"
   ]
  },
  {
   "cell_type": "code",
   "execution_count": 1,
   "id": "rental-catch",
   "metadata": {
    "execution": {
     "iopub.execute_input": "2021-03-25T14:00:39.893484Z",
     "iopub.status.busy": "2021-03-25T14:00:39.893173Z",
     "iopub.status.idle": "2021-03-25T14:00:39.910332Z",
     "shell.execute_reply": "2021-03-25T14:00:39.908746Z",
     "shell.execute_reply.started": "2021-03-25T14:00:39.893416Z"
    },
    "tags": []
   },
   "outputs": [
    {
     "name": "stdout",
     "output_type": "stream",
     "text": [
      "Overwriting GitMore.py\n"
     ]
    }
   ],
   "source": [
    "%%writefile GitMore.py\n",
    "#!/usr/bin/env python\n",
    "import click\n",
    "\n",
    "\n",
    "def richStyle(originString=\"\", processedString=\"\"):\n",
    "    global globalParamDict\n",
    "    import difflib\n",
    "    richS1 = richS2 = \"\"\n",
    "    richS1DifPos = richS2DifPos = 0\n",
    "    for match in difflib.SequenceMatcher(0, originString,\n",
    "                                         processedString).get_matching_blocks():\n",
    "        if richS1DifPos < match.a:\n",
    "            richS1 += \"[bold red]\" + originString[richS1DifPos:match.a].replace(\n",
    "                \" \", \"▯\") + \"[/bold red]\" + originString[match.a:match.a +\n",
    "                                                         match.size]\n",
    "            richS1DifPos = match.a + match.size\n",
    "        else:\n",
    "            richS1 += originString[match.a:match.a + match.size]\n",
    "            richS1DifPos = match.a + match.size\n",
    "\n",
    "        if richS2DifPos < match.b:\n",
    "            richS2 += \"[bold green]\" + processedString[\n",
    "                richS2DifPos:match.b].replace(\n",
    "                    \" \",\n",
    "                    \"▯\") + \"[/bold green]\" + processedString[match.b:match.b +\n",
    "                                                             match.size]\n",
    "            richS2DifPos = match.b + match.size\n",
    "        else:\n",
    "            richS2 += processedString[match.b:match.b + match.size]\n",
    "            richS2DifPos = match.b + match.size\n",
    "\n",
    "    return richS1, richS2\n",
    "\n",
    "\n",
    "def getGitConfiguration(gitRepoPath=None):\n",
    "    import logging\n",
    "    logger = logging.getLogger(\"GitMore\")\n",
    "    global globalParamDict\n",
    "    import os\n",
    "    import re\n",
    "    if (gitRepoPath is None) or (not os.path.exists(gitRepoPath)):\n",
    "        logger.warning(f\"Not Valid Path:{gitRepoPath}\")\n",
    "        return None\n",
    "    if not os.path.isdir(os.path.join(gitRepoPath, \".git\")):\n",
    "        logger.warning(f\"Not Valid Git Repo Path:{gitRepoPath}\")\n",
    "        return None\n",
    "    configPath = os.path.join(gitRepoPath, \".git/config\")\n",
    "    if not os.path.isfile(configPath):\n",
    "        logger.warning(f\"No Valid Configuration:{gitRepoPath}\")\n",
    "        return None\n",
    "    rePattern = \".*github.com/(.*)/(.*).git.*\"\n",
    "    try:\n",
    "        with open(configPath, \"r\") as fhandle:\n",
    "            for line in fhandle:\n",
    "                reMatch = re.match(rePattern, line)\n",
    "                if not reMatch is None:\n",
    "                    return reMatch.groups()\n",
    "        logger.debug(f\"read git config successfully:{configPath}\")\n",
    "    except:\n",
    "        e = sys.exc_info()\n",
    "        logger.error(e)\n",
    "\n",
    "\n",
    "def gitX(gitRepoPath=None):\n",
    "    import logging\n",
    "    import pathlib\n",
    "    logger = logging.getLogger(\"GitMore\")\n",
    "    global globalParamDict\n",
    "    dataDirPath = globalParamDict[\"dataDirPath\"]\n",
    "    pathlib.Path(dataDirPath).mkdir(parents=True, exist_ok=True)\n",
    "    console, style = globalParamDict[\"console\"]\n",
    "    result = getGitConfiguration(gitRepoPath)\n",
    "    newRepoName = None if result is None else str(result[1]) + \"@\" + str(\n",
    "        result[0])\n",
    "    if newRepoName is None:\n",
    "        logger.error(f\"No Valid Configuration:{gitRepoPath}\")\n",
    "        return None\n",
    "    from datetime import datetime\n",
    "    import hashlib\n",
    "    import os\n",
    "    import pickle\n",
    "    currentRepoName = gitRepoPath.rstrip(os.path.sep).split(os.path.sep)[-1]\n",
    "    currentRepoDirPath = (os.path.sep).join(\n",
    "        gitRepoPath.rstrip(os.path.sep).split(os.path.sep)[:-1])\n",
    "    currentRepoPath = os.path.join(currentRepoDirPath, currentRepoName)\n",
    "    newRepoPath = os.path.join(currentRepoDirPath, newRepoName)\n",
    "    if currentRepoPath == newRepoPath:\n",
    "        logger.debug(f\"No Need GitMore:{currentRepoPath}\")\n",
    "        return None\n",
    "    if not globalParamDict[\"dry\"]:\n",
    "        datetimeStr = datetime.now().strftime(\"%Y%m%d%H%M%S%f\")\n",
    "        logContent = {\n",
    "            \"current\": newRepoPath,\n",
    "            \"history\": {\n",
    "                datetimeStr: currentRepoPath\n",
    "            }\n",
    "        }\n",
    "        dataPath = os.path.join(\n",
    "            dataDirPath,\n",
    "            hashlib.md5(newRepoPath.encode(\"UTF-8\")).hexdigest() + \"_\" +\n",
    "            datetimeStr + \".pkl\")\n",
    "        try:\n",
    "            with open(dataPath, \"wb\") as fhandle:\n",
    "                pickle.dump(logContent, fhandle)\n",
    "            logger.debug(f\"write {dataPath} successfully.\")\n",
    "        except:\n",
    "            e = sys.exc_info()\n",
    "            logger.error(e)\n",
    "        try:\n",
    "            os.rename(currentRepoPath, newRepoPath)\n",
    "            logger.debug(\n",
    "                f\"rename {currentRepoName} to {newRepoName} successfully.\")\n",
    "            if globalParamDict[\"appDirPath\"] != os.path.dirname(\n",
    "                    os.path.realpath(__file__)):\n",
    "                globalParamDict[\"appDirPath\"] = os.path.dirname(\n",
    "                    os.path.realpath(__file__))\n",
    "                logger.debug(\n",
    "                    f'Current appDirPath:{globalParamDict[\"appDirPath\"]}')\n",
    "                globalParamDict[\"dataDirPath\"] = os.path.join(\n",
    "                    globalParamDict[\"appDirPath\"], \"data\")\n",
    "                logger.debug(\n",
    "                    f'Current dataDirPath:{globalParamDict[\"dataDirPath\"]}')\n",
    "\n",
    "        except:\n",
    "            e = sys.exc_info()\n",
    "            logger.error(e)\n",
    "\n",
    "    richCurrentRepoPath, richNewRepoPath = richStyle(currentRepoPath,\n",
    "                                                     newRepoPath)\n",
    "    console.print(\" \" * 3 + richCurrentRepoPath, style=style)\n",
    "    console.print(\"==>\" + richNewRepoPath, style=style)\n",
    "\n",
    "\n",
    "@click.command(context_settings={\"ignore_unknown_options\": True})\n",
    "@click.argument(\"argpath\", required=False, type=click.Path(exists=True))\n",
    "@click.option(\"--dry\",\n",
    "              default=True,\n",
    "              type=bool,\n",
    "              help=\"If dry is True will not change file name.\",\n",
    "              show_default=True)\n",
    "def gitMore(argpath, dry):\n",
    "    global globalParamDict\n",
    "    \"\"\"Change Git Local Repo Dir Name to RepoName@OrgName format\n",
    "    \"\"\"\n",
    "    if argpath:\n",
    "        globalParamDict[\"argpath\"] = argpath\n",
    "    else:\n",
    "        globalParamDict[\"argpath\"] = \".\"\n",
    "    globalParamDict[\"dry\"] = dry\n",
    "\n",
    "    import os\n",
    "    for root, subdir, files in os.walk(globalParamDict[\"argpath\"]):\n",
    "        for f in files:\n",
    "            if \".git\" in subdir:\n",
    "                gitX(os.path.abspath(root))\n",
    "                break\n",
    "\n",
    "\n",
    "if __name__ == \"__main__\":\n",
    "    from datetime import datetime\n",
    "    import logging\n",
    "    import os\n",
    "    import pathlib\n",
    "    import sys\n",
    "    from rich.console import Console\n",
    "    from rich.theme import Theme\n",
    "    #Define some varible\n",
    "    console = Console(width=240, theme=Theme(inherit=False))\n",
    "    style = \"black on white\"\n",
    "    datetimeStr = datetime.now().strftime(\"%Y%m%d%H%M%S%f\")\n",
    "    appDirPath = os.path.dirname(os.path.realpath(__file__))\n",
    "    globalParamDict = {}\n",
    "    globalParamDict[\"appDirPath\"] = appDirPath\n",
    "    globalParamDict[\"dataDirPath\"] = os.path.join(globalParamDict[\"appDirPath\"],\n",
    "                                                  \"data\")\n",
    "    globalParamDict[\"console\"] = (console, style)\n",
    "    #Create Logger\n",
    "    logger = logging.getLogger(\"GitMore\")\n",
    "    logger.setLevel(logging.DEBUG)\n",
    "    #Create File Handler\n",
    "    #Mode set Write\n",
    "    logDirPath = os.path.join(appDirPath, \"./log\")\n",
    "    pathlib.Path(logDirPath).mkdir(parents=True, exist_ok=True)\n",
    "    fhandle = logging.FileHandler(os.path.join(\n",
    "        logDirPath, \"GitMorelog_\" + datetimeStr + \".log\"),\n",
    "                                  mode=\"w\")\n",
    "    fhandle.setLevel(logging.DEBUG)\n",
    "    #Create Console Handler\n",
    "    chandle = logging.StreamHandler()\n",
    "    chandle.setLevel(logging.ERROR)\n",
    "    #Create Formatter\n",
    "    formatter = logging.Formatter(\n",
    "        \"%(asctime)s-%(name)s-%(levelname)s-%(message)s\")\n",
    "    fhandle.setFormatter(formatter)\n",
    "    chandle.setFormatter(formatter)\n",
    "    #Add Handlers to the Logger\n",
    "    logger.addHandler(fhandle)\n",
    "    logger.addHandler(chandle)\n",
    "    #Check Python Version if < 3.8 exit\n",
    "    if (sys.version_info.major, sys.version_info.minor) < (3, 8):\n",
    "        logger.error(\n",
    "            f\"current is {sys.version},Please upgrade to python 3.8 and more.\")\n",
    "        sys.exit()\n",
    "    #gitMore action ...\n",
    "    gitMore()"
   ]
  },
  {
   "cell_type": "markdown",
   "id": "fluid-celebration",
   "metadata": {},
   "source": [
    "### Auxiliary Operation"
   ]
  },
  {
   "cell_type": "code",
   "execution_count": 2,
   "id": "opening-basic",
   "metadata": {
    "execution": {
     "iopub.execute_input": "2021-03-25T14:00:40.859672Z",
     "iopub.status.busy": "2021-03-25T14:00:40.859221Z",
     "iopub.status.idle": "2021-03-25T14:00:40.878061Z",
     "shell.execute_reply": "2021-03-25T14:00:40.875990Z",
     "shell.execute_reply.started": "2021-03-25T14:00:40.859629Z"
    },
    "tags": []
   },
   "outputs": [],
   "source": [
    "import os\n",
    "import subprocess\n",
    "\n",
    "fpath = \"./GitMore.py\"\n",
    "if os.path.exists(fpath):\n",
    "    subprocess.Popen([\"chmod\", \"+x\", fpath])"
   ]
  },
  {
   "cell_type": "markdown",
   "id": "weekly-things",
   "metadata": {},
   "source": [
    "## Git Decorated Version"
   ]
  },
  {
   "cell_type": "markdown",
   "id": "electrical-liberal",
   "metadata": {},
   "source": [
    "# Roadmap"
   ]
  },
  {
   "cell_type": "markdown",
   "id": "certain-preview",
   "metadata": {},
   "source": [
    "1. Running Mode:\n",
    "    * JupyterNoteBook\n",
    "    * Standalone CLI\n",
    "    * Git CLI Decorated"
   ]
  },
  {
   "cell_type": "code",
   "execution_count": 1,
   "id": "bridal-terminology",
   "metadata": {
    "execution": {
     "iopub.execute_input": "2021-03-25T11:10:03.387715Z",
     "iopub.status.busy": "2021-03-25T11:10:03.387384Z",
     "iopub.status.idle": "2021-03-25T11:10:03.401330Z",
     "shell.execute_reply": "2021-03-25T11:10:03.397340Z",
     "shell.execute_reply.started": "2021-03-25T11:10:03.387641Z"
    }
   },
   "outputs": [],
   "source": [
    "import pathlib"
   ]
  },
  {
   "cell_type": "code",
   "execution_count": 2,
   "id": "amber-psychiatry",
   "metadata": {
    "execution": {
     "iopub.execute_input": "2021-03-25T11:11:14.312503Z",
     "iopub.status.busy": "2021-03-25T11:11:14.311994Z",
     "iopub.status.idle": "2021-03-25T11:11:14.329711Z",
     "shell.execute_reply": "2021-03-25T11:11:14.325019Z",
     "shell.execute_reply.started": "2021-03-25T11:11:14.312449Z"
    }
   },
   "outputs": [],
   "source": [
    "pathlib.Path(\"./TstFD/TestSD/TestTD/x.t\").mkdir(parents=True, exist_ok=True)"
   ]
  },
  {
   "cell_type": "code",
   "execution_count": null,
   "id": "recent-invite",
   "metadata": {},
   "outputs": [],
   "source": []
  }
 ],
 "metadata": {
  "kernelspec": {
   "display_name": "Python 3",
   "language": "python",
   "name": "python3"
  },
  "language_info": {
   "codemirror_mode": {
    "name": "ipython",
    "version": 3
   },
   "file_extension": ".py",
   "mimetype": "text/x-python",
   "name": "python",
   "nbconvert_exporter": "python",
   "pygments_lexer": "ipython3",
   "version": "3.8.8"
  },
  "toc-autonumbering": true
 },
 "nbformat": 4,
 "nbformat_minor": 5
}
